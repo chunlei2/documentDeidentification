{
 "cells": [
  {
   "cell_type": "code",
   "execution_count": 1,
   "metadata": {},
   "outputs": [],
   "source": [
    "from bs4 import BeautifulSoup\n",
    "from pandas import ExcelWriter\n",
    "import pandas as pd"
   ]
  },
  {
   "cell_type": "code",
   "execution_count": 3,
   "metadata": {},
   "outputs": [],
   "source": [
    "rawText = open('./2006 i2b2/deid_surrogate_train_all_version2/deid_surrogate_train_all_version2.xml').read()\n",
    "soup = BeautifulSoup(rawText, 'xml')"
   ]
  },
  {
   "cell_type": "code",
   "execution_count": 78,
   "metadata": {},
   "outputs": [],
   "source": [
    "def xml2Excel(inDirectory = None, outFileName = None, outDirectory = None):   \n",
    "    path = inDirectory\n",
    "    rawText = open(inDirectory).read()\n",
    "    soup = BeautifulSoup(rawText, 'xml')\n",
    "    rawTexts = []\n",
    "    tags = []\n",
    "    for record in soup.find_all('RECORD'):\n",
    "        recordId = record[\"ID\"]\n",
    "        text = record.text\n",
    "        rawTexts.append(text)\n",
    "        start = 0\n",
    "        tag = []\n",
    "        for phi in record.find_all('PHI'):\n",
    "            start = text.find(phi.text, start)\n",
    "            end = start + len(phi.text)\n",
    "            tagType = phi['TYPE']\n",
    "            tag.append({'start': str(start), 'end': str(end), 'text': phi.text, 'TYPE': tagType})\n",
    "        tags.append(tag)\n",
    "    print(len(rawTexts), len(tags))\n",
    "    fullPath = outDirectory + outFileName\n",
    "    writer = ExcelWriter(outFileName)\n",
    "    df = pd.DataFrame({'text': rawTexts, 'tags' : tags})\n",
    "    df.to_excel(writer,'Sheet1', index = False)\n",
    "    writer.save()\n",
    "    \n",
    "    \n"
   ]
  },
  {
   "cell_type": "code",
   "execution_count": 84,
   "metadata": {},
   "outputs": [
    {
     "name": "stdout",
     "output_type": "stream",
     "text": [
      "668 668\n"
     ]
    }
   ],
   "source": [
    "xml2Excel(inDirectory='./2006 i2b2/deid_surrogate_train_all_version2/deid_surrogate_train_all_version2.xml', outDirectory='.',\n",
    "         outFileName='i2b2-2006Train.xlsx')"
   ]
  },
  {
   "cell_type": "code",
   "execution_count": 85,
   "metadata": {},
   "outputs": [
    {
     "name": "stdout",
     "output_type": "stream",
     "text": [
      "220 220\n"
     ]
    }
   ],
   "source": [
    "xml2Excel(inDirectory='./2006 i2b2/deid_surrogate_test_all_groundtruth_version2/deid_surrogate_test_all_groundtruth_version2.xml', outDirectory='.',\n",
    "         outFileName='i2b2-2006Test.xlsx')"
   ]
  },
  {
   "cell_type": "code",
   "execution_count": 2,
   "metadata": {},
   "outputs": [],
   "source": [
    "dfTrain = pd.read_excel('./i2b2-2006Train.xlsx')"
   ]
  },
  {
   "cell_type": "code",
   "execution_count": 4,
   "metadata": {},
   "outputs": [
    {
     "data": {
      "text/plain": [
       "'\\n\\n123547445\\nFIH\\n7111426\\n47933/f911\\n557344\\n11/19/1994 12:00:00 AM\\nDischarge Summary\\nUnsigned\\nDIS\\nReport Status :\\nUnsigned\\nADMISSION DATE :\\n11/19/94\\nDISCHARGE DATE :\\n11/28/94\\nADMISSION DIAGNOSIS :\\nAspiration pneumonia , esophageal laceration .\\nHISTORY OF PRESENT ILLNESS :\\nMr. Blind is a 79-year-old white white male with a history of diabetes mellitus , inferior myocardial infarction , who underwent open repair of his increased diverticulum November 13th at Sephsandpot Center .\\nThe patient developed hematemesis November 15th and was intubated for respiratory distress .\\nHe was transferred to the Valtawnprinceel Community Memorial Hospital for endoscopy and esophagoscopy on the 16th of November which showed a 2 cm linear tear of the esophagus at 30 to 32 cm .\\nThe patient \\'s hematocrit was stable and he was given no further intervention .\\nThe patient attempted a gastrografin swallow on the 21st , but was unable to cooperate with probable aspiration .\\nThe patient also had been receiving generous intravenous hydration during the period for which he was NPO for his esophageal tear and intravenous Lasix for a question of pulmonary congestion .\\nOn the morning of the 22nd the patient developed tachypnea with a chest X-ray showing a question of congestive heart failure .\\nA medical consult was obtained at the Valtawnprinceel Community Memorial Hospital .\\nThe patient was given intravenous Lasix .\\nA arterial blood gases on 100 percent face mask showed an oxygen of 205 , CO2 57 and PH 7.3 .\\nAn electrocardiogram showed ST depressions in V2 through V4 which improved with sublingual and intravenous nitroglycerin .\\nThe patient was transferred to the Coronary Care Unit for management of his congestive heart failure , ischemia and probable aspiration pneumonia .\\nPAST MEDICAL HISTORY :\\nThe patient \\'s past medical history is significant for :\\n1. coronary artery disease .\\n2. non insulin dependent diabetes mellitus ,\\n3. history of colitis .\\n4. history of cholecystectomy .\\n5. blindness .\\nMEDICATIONS ON ADMISSION :\\nThe patient \\'s medications at home were Micronase , Isordil and aspirin .\\nThe patient \\'s medications on transfer are Mucomist and Albuterol nebs , Versed , Morphine prn , D5 half normal at 125 cc per hour , Clindamycin 600 q. 8 hours , Micronase 5 b.i.d. , CZI sliding scale , Cimetidine 300 intravenously q. 8 , Carafate 1 gram per G tube q. 8 hours , Ranitidine 50 mg intravenously q. 6 , Isordil 5 mg q .\\n8. SOCIAL HISTORY :\\nThe patient \\'s social history is remarkable for greater than 80 pack years of smoking , which he discontinued 15 years prior to admission .\\nHe is a former alcoholic , but without any alcohol in 30 years prior to admission .\\nHe is a retired welder .\\nHe is legally blind .\\nPHYSICAL EXAMINATION :\\nOn physical examination he is a tachypneic white male on 40 percent face mask with oxygen saturations 98 percent .\\nHe was afebrile .\\nBlood pressure 150/60 , heart rate 90 \\'s , respirations 22 .\\nHis oropharynx was clear .\\nHe had no gag .\\nHis fundus was poorly seen .\\nHe did count fingers in both eyes at one foot .\\nHe had 2+ carotids on time without bruits .\\nThe jugular venous pressure was 6 .\\nHe had a scar that was healing in the left neck .\\nHis heart rate was regular rate and rhythm .\\nHe had diffuse rhonchi and upper airway noises .\\nHis abdomen was benign .\\nHe had guaiac positive brown stool with a normal prostate .\\nHis neurological examination was remarkable for a mildly encephalopathic male .\\nHe was oriented times two .\\nHe thought he was in \" Em Nysonken Medical Center \" .\\nHe moved extremities times four .\\nHis reflexes were 2+ and symmetric .\\nHis toes were down going .\\nLABORATORY DATA :\\nFour liter arterial blood gas of 71/43/7.45 , ionized calcium 1.03 , normal electrolytes , BUN and creatinine 16/1.4 , glucose 246 , calc , mag and phos normal , albumin 2.2 , LDH 227 , liver function tests normal , white count 10.6 , hematocrit 32 which was 31 on the 19th and 38 on the 16th , prothrombin time 9.9 , partial thromboplastin time 26 .\\nCultures of the blood , urine and sputum were pending at that time .\\nA sputum gram stain showed moderate polys with few gram negative rods .\\nA chest X-ray showed bilateral opacities in the bases with increased interstitial markings .\\nAn electrocardiogram on admission to the CCU showed normal sinus , 90 beats per minute , with a normal axis , normal intervals , an old inferior myocardial infarction and up sloping ST depressions with V2 to V4 with increased rate .\\nThese improved with decreased rate .\\nHOSPITAL COURSE :\\nThe patient was admitted to the Coronary Care Unit and placed on Unasyn for a question of aspiration pneumonia .\\nHe was also placed on intravenous nitroglycerin , oxygen and aspirin for his coronary ischemia .\\nNo heparin was given because of his esophageal laceration .\\nNo beta blocker was given because of his history of chronic obstructive pulmonary disease .\\nThe patient remained stable in the Coronary Care Unit and was transferred to the floor on the 23rd on aspirin , Carafate , intravenous Haldol , nebs , Unasyn , NPH with CZI sliding coverage , morphine , Compazine and intravenous Benadryl .\\nHis blood gas at that time on 40 percent face mask was 84 , 42 , 7.48 .\\nHis hematocrit was 28 at the time of transfer .\\nHe was still guaiac positive at that time .\\nHis mental status was improved from admission to the CCU .\\nThe patient did well on the floor initially with improvement in his arterial blood gases and mental status .\\nHowever , on the 24th he had a massive upper GI bleed .\\nHe was taken for esophagogastroduodenoscopy by the Surgical Service after elective intubation for airway control .\\nThere was large fresh clot covering the lower part of the esophagus starting at 35 cm and extending distally to the esophagogastric junction along the left curvature side of the stomach .\\nThe clot was dense despite multiple attempts at lavage .\\nThere was no lesion noted in the stomach .\\nThe pylorus was entered and the first and second portion of the duodenum were inspected and were seen to be normal .\\nThe scope was retroflexed in the antrum where it showed a normal fundus of the stomach and normal esophagogastric junction .\\nIt was felt the patient \\'s GI bleeding was secondary to his previously known esophageal tear .\\nHe was readmitted to the Coronary Care Unit on the 25th , where initially he was stable .\\nHis aspirin was discontinued .\\nHe was continued on the intravenous Cimetidine and Carafate except that he was made NPO .\\nHe was transfused to keep hematocrit greater than 30 .\\nHe was seen in consultation by the OLH Service , who felt he was a candidate for total parenteral nutrition .\\nOn the 25th he developed progressive hypotension with evidence of further upper gastrointestinal bleeding .\\nHe was intubated for airway protection .\\nAn electrocardiogram at that time showed a right rate related right bundle and apical ST changes consistent with ischemia .\\nRepeat endoscopy was unsuccessful because of severe bleeding despite massive lavage .\\nA pneumothorax was noted on his chest X-ray on the 25th and a chest tube was placed .\\nOn the 26th , because of continued massive bleeding , he was taken by Vascular Radiology for a question of embolization .\\nThree sites of active extravasation were found , one from the gastroesophageal junction area and two from the gastric fundus .\\nAll sites were successfully embolized with Gelfoam with non-selective arterial embolization of the spleen occurring as well .\\nNo varices were noted .\\nSevere right external iliac stenosis was noted .\\nThe patient returned to the floor on the 26th with improved hemodynamics .\\nHe was continued to be managed with packed red blood cells , platelets and fresh frozen plasma .\\nHe was continued to be intubated with poor mental status .\\nHe was paralyzed for the vascular procedure .\\nA head computerized tomography scan on the 26th showed a probable right cerebellar infarct and a question of a right middle cerebral artery infarct .\\nGiven the multi organ system failure on the 26th the family was consulted regarding his dismal prognosis and they decided to make the patient do not resuscitate without further pressures or aggressive measures with comfort care being paramount .\\nThe patient continued to have bleeding with progressive downward deterioration of his mental status and renal failure and temperature spikes .\\nThe patient died on the 31st .\\nNo cardiopulmonary resuscitation was performed as per the patient and family wishes .\\nZIE M. ZONE , M.D.\\nTR :\\nqp / bmot\\nDD :\\n11/05/95\\nTD :\\n11/08/95\\nCC :\\n[ report_end ]\\n\\n'"
      ]
     },
     "execution_count": 4,
     "metadata": {},
     "output_type": "execute_result"
    }
   ],
   "source": [
    "dfTrain.iloc[0, 0]"
   ]
  },
  {
   "cell_type": "code",
   "execution_count": null,
   "metadata": {},
   "outputs": [],
   "source": []
  }
 ],
 "metadata": {
  "kernelspec": {
   "display_name": "Python 3",
   "language": "python",
   "name": "python3"
  },
  "language_info": {
   "codemirror_mode": {
    "name": "ipython",
    "version": 3
   },
   "file_extension": ".py",
   "mimetype": "text/x-python",
   "name": "python",
   "nbconvert_exporter": "python",
   "pygments_lexer": "ipython3",
   "version": "3.6.4"
  }
 },
 "nbformat": 4,
 "nbformat_minor": 2
}
